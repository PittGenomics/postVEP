{
 "cells": [
  {
   "cell_type": "code",
   "execution_count": 1,
   "metadata": {},
   "outputs": [],
   "source": [
    "import matplotlib.pyplot as plt\n",
    "%matplotlib inline  \n",
    "from postVEP import VEPresult\n",
    "from postVEP.plots import plot_feature_counts\n",
    "import pandas as pd"
   ]
  },
  {
   "cell_type": "code",
   "execution_count": 2,
   "metadata": {},
   "outputs": [],
   "source": [
    "r = VEPresult('./output_with_plugin.tsv')"
   ]
  },
  {
   "cell_type": "code",
   "execution_count": 3,
   "metadata": {},
   "outputs": [
    {
     "name": "stdout",
     "output_type": "stream",
     "text": [
      "Total number of records: 68\n"
     ]
    }
   ],
   "source": [
    "print('Total number of records:', len(r.data))"
   ]
  },
  {
   "cell_type": "code",
   "execution_count": 4,
   "metadata": {},
   "outputs": [
    {
     "data": {
      "text/plain": [
       "1_155192276_C/A    38\n",
       "3_114643917_C/T     9\n",
       "3_114643917_C/G     9\n",
       "5_40791782_C/T      8\n",
       "10_94310618_A/C     4\n",
       "Name: Uploaded_variation, dtype: int64"
      ]
     },
     "execution_count": 4,
     "metadata": {},
     "output_type": "execute_result"
    }
   ],
   "source": [
    "r.get_col_by_name('Uploaded_variation').value_counts()"
   ]
  },
  {
   "cell_type": "code",
   "execution_count": 5,
   "metadata": {},
   "outputs": [
    {
     "data": {
      "text/plain": [
       "dict_keys(['Uploaded_variation', 'Location', 'Allele', 'Gene', 'Feature', 'Feature_type', 'Consequence', 'cDNA_position', 'CDS_position', 'Protein_position', 'Amino_acids', 'Codons', 'Existing_variation', 'IMPACT', 'DISTANCE', 'STRAND', 'FLAGS', 'AF', 'CLIN_SIG', 'SOMATIC', 'PHENO', 'MOTIF_NAME', 'MOTIF_POS', 'HIGH_INF_POS', 'MOTIF_SCORE_CHANGE', 'BLOSUM62', 'DownstreamProtein', 'ProteinLengthChange', 'LinkedVariants_JPT', 'LinkedVariants_KHV', 'LinkedVariants_CHB', 'LinkedVariants_CHS', 'LinkedVariants_CDX', 'ada_score', 'rf_score', 'chr', '1000Gp3_AC', '1000Gp3_AF', '1000Gp3_AFR_AC', '1000Gp3_AFR_AF', '1000Gp3_AMR_AC', '1000Gp3_AMR_AF', '1000Gp3_EAS_AC', '1000Gp3_EAS_AF', '1000Gp3_EUR_AC', '1000Gp3_EUR_AF', '1000Gp3_SAS_AC', '1000Gp3_SAS_AF', 'ALSPAC_AC', 'ALSPAC_AF', 'AltaiNeandertal', 'Ancestral_allele', 'CADD_phred', 'CADD_raw', 'CADD_raw_rankscore', 'DANN_rankscore', 'DANN_score', 'Denisova', 'ESP6500_AA_AC', 'ESP6500_AA_AF', 'ESP6500_EA_AC', 'ESP6500_EA_AF', 'Eigen-PC-phred', 'Eigen-PC-raw', 'Eigen-PC-raw_rankscore', 'Eigen-phred', 'Eigen-raw', 'Eigen_coding_or_noncoding', 'Ensembl_geneid', 'Ensembl_proteinid', 'Ensembl_transcriptid', 'ExAC_AC', 'ExAC_AF', 'ExAC_AFR_AC', 'ExAC_AFR_AF', 'ExAC_AMR_AC', 'ExAC_AMR_AF', 'ExAC_Adj_AC', 'ExAC_Adj_AF', 'ExAC_EAS_AC', 'ExAC_EAS_AF', 'ExAC_FIN_AC', 'ExAC_FIN_AF', 'ExAC_NFE_AC', 'ExAC_NFE_AF', 'ExAC_SAS_AC', 'ExAC_SAS_AF', 'ExAC_nonTCGA_AC', 'ExAC_nonTCGA_AF', 'ExAC_nonTCGA_AFR_AC', 'ExAC_nonTCGA_AFR_AF', 'ExAC_nonTCGA_AMR_AC', 'ExAC_nonTCGA_AMR_AF', 'ExAC_nonTCGA_Adj_AC', 'ExAC_nonTCGA_Adj_AF', 'ExAC_nonTCGA_EAS_AC', 'ExAC_nonTCGA_EAS_AF', 'ExAC_nonTCGA_FIN_AC', 'ExAC_nonTCGA_FIN_AF', 'ExAC_nonTCGA_NFE_AC', 'ExAC_nonTCGA_NFE_AF', 'ExAC_nonTCGA_SAS_AC', 'ExAC_nonTCGA_SAS_AF', 'ExAC_nonpsych_AC', 'ExAC_nonpsych_AF', 'ExAC_nonpsych_AFR_AC', 'ExAC_nonpsych_AFR_AF', 'ExAC_nonpsych_AMR_AC', 'ExAC_nonpsych_AMR_AF', 'ExAC_nonpsych_Adj_AC', 'ExAC_nonpsych_Adj_AF', 'ExAC_nonpsych_EAS_AC', 'ExAC_nonpsych_EAS_AF', 'ExAC_nonpsych_FIN_AC', 'ExAC_nonpsych_FIN_AF', 'ExAC_nonpsych_NFE_AC', 'ExAC_nonpsych_NFE_AF', 'ExAC_nonpsych_SAS_AC', 'ExAC_nonpsych_SAS_AF', 'FATHMM_converted_rankscore', 'FATHMM_pred', 'FATHMM_score', 'GERP++_NR', 'GERP++_RS', 'GERP++_RS_rankscore', 'GM12878_confidence_value', 'GM12878_fitCons_score', 'GM12878_fitCons_score_rankscore', 'GTEx_V6p_gene', 'GTEx_V6p_tissue', 'GenoCanyon_score', 'GenoCanyon_score_rankscore', 'H1-hESC_confidence_value', 'H1-hESC_fitCons_score', 'H1-hESC_fitCons_score_rankscore', 'HUVEC_confidence_value', 'HUVEC_fitCons_score', 'HUVEC_fitCons_score_rankscore', 'Interpro_domain', 'LRT_Omega', 'LRT_converted_rankscore', 'LRT_pred', 'LRT_score', 'M-CAP_pred', 'M-CAP_rankscore', 'M-CAP_score', 'MetaLR_pred', 'MetaLR_rankscore', 'MetaLR_score', 'MetaSVM_pred', 'MetaSVM_rankscore', 'MetaSVM_score', 'MutPred_AAchange', 'MutPred_Top5features', 'MutPred_protID', 'MutPred_rankscore', 'MutPred_score', 'MutationAssessor_UniprotID', 'MutationAssessor_pred', 'MutationAssessor_score', 'MutationAssessor_score_rankscore', 'MutationAssessor_variant', 'MutationTaster_AAE', 'MutationTaster_converted_rankscore', 'MutationTaster_model', 'MutationTaster_pred', 'MutationTaster_score', 'PROVEAN_converted_rankscore', 'PROVEAN_pred', 'PROVEAN_score', 'Polyphen2_HDIV_pred', 'Polyphen2_HDIV_rankscore', 'Polyphen2_HDIV_score', 'Polyphen2_HVAR_pred', 'Polyphen2_HVAR_rankscore', 'Polyphen2_HVAR_score', 'REVEL_rankscore', 'REVEL_score', 'Reliability_index', 'SIFT_converted_rankscore', 'SIFT_pred', 'SIFT_score', 'SiPhy_29way_logOdds', 'SiPhy_29way_logOdds_rankscore', 'SiPhy_29way_pi', 'TWINSUK_AC', 'TWINSUK_AF', 'Transcript_id_VEST3', 'Transcript_var_VEST3', 'Uniprot_aapos_Polyphen2', 'Uniprot_acc_Polyphen2', 'Uniprot_id_Polyphen2', 'VEST3_rankscore', 'VEST3_score', 'aaalt', 'aapos', 'aaref', 'alt', 'cds_strand', 'clinvar_clnsig', 'clinvar_golden_stars', 'clinvar_rs', 'clinvar_trait', 'codon_degeneracy', 'codonpos', 'fathmm-MKL_coding_group', 'fathmm-MKL_coding_pred', 'fathmm-MKL_coding_rankscore', 'fathmm-MKL_coding_score', 'genename', 'gnomAD_exomes_AC', 'gnomAD_exomes_AF', 'gnomAD_exomes_AFR_AC', 'gnomAD_exomes_AFR_AF', 'gnomAD_exomes_AFR_AN', 'gnomAD_exomes_AMR_AC', 'gnomAD_exomes_AMR_AF', 'gnomAD_exomes_AMR_AN', 'gnomAD_exomes_AN', 'gnomAD_exomes_ASJ_AC', 'gnomAD_exomes_ASJ_AF', 'gnomAD_exomes_ASJ_AN', 'gnomAD_exomes_EAS_AC', 'gnomAD_exomes_EAS_AF', 'gnomAD_exomes_EAS_AN', 'gnomAD_exomes_FIN_AC', 'gnomAD_exomes_FIN_AF', 'gnomAD_exomes_FIN_AN', 'gnomAD_exomes_NFE_AC', 'gnomAD_exomes_NFE_AF', 'gnomAD_exomes_NFE_AN', 'gnomAD_exomes_OTH_AC', 'gnomAD_exomes_OTH_AF', 'gnomAD_exomes_OTH_AN', 'gnomAD_exomes_SAS_AC', 'gnomAD_exomes_SAS_AF', 'gnomAD_exomes_SAS_AN', 'gnomAD_genomes_AC', 'gnomAD_genomes_AF', 'gnomAD_genomes_AFR_AC', 'gnomAD_genomes_AFR_AF', 'gnomAD_genomes_AFR_AN', 'gnomAD_genomes_AMR_AC', 'gnomAD_genomes_AMR_AF', 'gnomAD_genomes_AMR_AN', 'gnomAD_genomes_AN', 'gnomAD_genomes_ASJ_AC', 'gnomAD_genomes_ASJ_AF', 'gnomAD_genomes_ASJ_AN', 'gnomAD_genomes_EAS_AC', 'gnomAD_genomes_EAS_AF', 'gnomAD_genomes_EAS_AN', 'gnomAD_genomes_FIN_AC', 'gnomAD_genomes_FIN_AF', 'gnomAD_genomes_FIN_AN', 'gnomAD_genomes_NFE_AC', 'gnomAD_genomes_NFE_AF', 'gnomAD_genomes_NFE_AN', 'gnomAD_genomes_OTH_AC', 'gnomAD_genomes_OTH_AF', 'gnomAD_genomes_OTH_AN', 'hg18_chr', 'hg18_pos(1-based)', 'hg19_chr', 'hg19_pos(1-based)', 'integrated_confidence_value', 'integrated_fitCons_score', 'integrated_fitCons_score_rankscore', 'phastCons100way_vertebrate', 'phastCons100way_vertebrate_rankscore', 'phastCons20way_mammalian', 'phastCons20way_mammalian_rankscore', 'phyloP100way_vertebrate', 'phyloP100way_vertebrate_rankscore', 'phyloP20way_mammalian', 'phyloP20way_mammalian_rankscore', 'pos(1-based)', 'ref', 'refcodon', 'rs_dbSNP150', 'CADD_PHRED', 'CADD_RAW', 'ExACpLI', 'NearestGene', 'PHENOTYPES', 'TSSDistance'])"
      ]
     },
     "execution_count": 5,
     "metadata": {},
     "output_type": "execute_result"
    }
   ],
   "source": [
    "r.get_all_col_names()"
   ]
  },
  {
   "cell_type": "code",
   "execution_count": 6,
   "metadata": {},
   "outputs": [
    {
     "data": {
      "text/plain": [
       "{'1000Gp3_AC',\n",
       " '1000Gp3_AF',\n",
       " '1000Gp3_AFR_AC',\n",
       " '1000Gp3_AFR_AF',\n",
       " '1000Gp3_AMR_AC',\n",
       " '1000Gp3_AMR_AF',\n",
       " '1000Gp3_EAS_AC',\n",
       " '1000Gp3_EAS_AF',\n",
       " '1000Gp3_EUR_AC',\n",
       " '1000Gp3_EUR_AF',\n",
       " '1000Gp3_SAS_AC',\n",
       " '1000Gp3_SAS_AF',\n",
       " 'ALSPAC_AC',\n",
       " 'ALSPAC_AF',\n",
       " 'AltaiNeandertal',\n",
       " 'Ancestral_allele',\n",
       " 'BLOSUM62',\n",
       " 'CADD_phred',\n",
       " 'CADD_raw',\n",
       " 'CADD_raw_rankscore',\n",
       " 'CLIN_SIG',\n",
       " 'DANN_rankscore',\n",
       " 'DANN_score',\n",
       " 'Denisova',\n",
       " 'DownstreamProtein',\n",
       " 'ESP6500_AA_AC',\n",
       " 'ESP6500_AA_AF',\n",
       " 'ESP6500_EA_AC',\n",
       " 'ESP6500_EA_AF',\n",
       " 'Eigen-PC-phred',\n",
       " 'Eigen-PC-raw',\n",
       " 'Eigen-PC-raw_rankscore',\n",
       " 'Eigen-phred',\n",
       " 'Eigen-raw',\n",
       " 'Eigen_coding_or_noncoding',\n",
       " 'Ensembl_geneid',\n",
       " 'Ensembl_proteinid',\n",
       " 'Ensembl_transcriptid',\n",
       " 'ExAC_AC',\n",
       " 'ExAC_AF',\n",
       " 'ExAC_AFR_AC',\n",
       " 'ExAC_AFR_AF',\n",
       " 'ExAC_AMR_AC',\n",
       " 'ExAC_AMR_AF',\n",
       " 'ExAC_Adj_AC',\n",
       " 'ExAC_Adj_AF',\n",
       " 'ExAC_EAS_AC',\n",
       " 'ExAC_EAS_AF',\n",
       " 'ExAC_FIN_AC',\n",
       " 'ExAC_FIN_AF',\n",
       " 'ExAC_NFE_AC',\n",
       " 'ExAC_NFE_AF',\n",
       " 'ExAC_SAS_AC',\n",
       " 'ExAC_SAS_AF',\n",
       " 'ExAC_nonTCGA_AC',\n",
       " 'ExAC_nonTCGA_AF',\n",
       " 'ExAC_nonTCGA_AFR_AC',\n",
       " 'ExAC_nonTCGA_AFR_AF',\n",
       " 'ExAC_nonTCGA_AMR_AC',\n",
       " 'ExAC_nonTCGA_AMR_AF',\n",
       " 'ExAC_nonTCGA_Adj_AC',\n",
       " 'ExAC_nonTCGA_Adj_AF',\n",
       " 'ExAC_nonTCGA_EAS_AC',\n",
       " 'ExAC_nonTCGA_EAS_AF',\n",
       " 'ExAC_nonTCGA_FIN_AC',\n",
       " 'ExAC_nonTCGA_FIN_AF',\n",
       " 'ExAC_nonTCGA_NFE_AC',\n",
       " 'ExAC_nonTCGA_NFE_AF',\n",
       " 'ExAC_nonTCGA_SAS_AC',\n",
       " 'ExAC_nonTCGA_SAS_AF',\n",
       " 'ExAC_nonpsych_AC',\n",
       " 'ExAC_nonpsych_AF',\n",
       " 'ExAC_nonpsych_AFR_AC',\n",
       " 'ExAC_nonpsych_AFR_AF',\n",
       " 'ExAC_nonpsych_AMR_AC',\n",
       " 'ExAC_nonpsych_AMR_AF',\n",
       " 'ExAC_nonpsych_Adj_AC',\n",
       " 'ExAC_nonpsych_Adj_AF',\n",
       " 'ExAC_nonpsych_EAS_AC',\n",
       " 'ExAC_nonpsych_EAS_AF',\n",
       " 'ExAC_nonpsych_FIN_AC',\n",
       " 'ExAC_nonpsych_FIN_AF',\n",
       " 'ExAC_nonpsych_NFE_AC',\n",
       " 'ExAC_nonpsych_NFE_AF',\n",
       " 'ExAC_nonpsych_SAS_AC',\n",
       " 'ExAC_nonpsych_SAS_AF',\n",
       " 'FATHMM_converted_rankscore',\n",
       " 'FATHMM_pred',\n",
       " 'FATHMM_score',\n",
       " 'GERP++_NR',\n",
       " 'GERP++_RS',\n",
       " 'GERP++_RS_rankscore',\n",
       " 'GM12878_confidence_value',\n",
       " 'GM12878_fitCons_score',\n",
       " 'GM12878_fitCons_score_rankscore',\n",
       " 'GTEx_V6p_gene',\n",
       " 'GTEx_V6p_tissue',\n",
       " 'GenoCanyon_score',\n",
       " 'GenoCanyon_score_rankscore',\n",
       " 'H1-hESC_confidence_value',\n",
       " 'H1-hESC_fitCons_score',\n",
       " 'H1-hESC_fitCons_score_rankscore',\n",
       " 'HIGH_INF_POS',\n",
       " 'HUVEC_confidence_value',\n",
       " 'HUVEC_fitCons_score',\n",
       " 'HUVEC_fitCons_score_rankscore',\n",
       " 'Interpro_domain',\n",
       " 'LRT_Omega',\n",
       " 'LRT_converted_rankscore',\n",
       " 'LRT_pred',\n",
       " 'LRT_score',\n",
       " 'M-CAP_pred',\n",
       " 'M-CAP_rankscore',\n",
       " 'M-CAP_score',\n",
       " 'MOTIF_NAME',\n",
       " 'MOTIF_POS',\n",
       " 'MOTIF_SCORE_CHANGE',\n",
       " 'MetaLR_pred',\n",
       " 'MetaLR_rankscore',\n",
       " 'MetaLR_score',\n",
       " 'MetaSVM_pred',\n",
       " 'MetaSVM_rankscore',\n",
       " 'MetaSVM_score',\n",
       " 'MutPred_AAchange',\n",
       " 'MutPred_Top5features',\n",
       " 'MutPred_protID',\n",
       " 'MutPred_rankscore',\n",
       " 'MutPred_score',\n",
       " 'MutationAssessor_UniprotID',\n",
       " 'MutationAssessor_pred',\n",
       " 'MutationAssessor_score',\n",
       " 'MutationAssessor_score_rankscore',\n",
       " 'MutationAssessor_variant',\n",
       " 'MutationTaster_AAE',\n",
       " 'MutationTaster_converted_rankscore',\n",
       " 'MutationTaster_model',\n",
       " 'MutationTaster_pred',\n",
       " 'MutationTaster_score',\n",
       " 'PROVEAN_converted_rankscore',\n",
       " 'PROVEAN_pred',\n",
       " 'PROVEAN_score',\n",
       " 'Polyphen2_HDIV_pred',\n",
       " 'Polyphen2_HDIV_rankscore',\n",
       " 'Polyphen2_HDIV_score',\n",
       " 'Polyphen2_HVAR_pred',\n",
       " 'Polyphen2_HVAR_rankscore',\n",
       " 'Polyphen2_HVAR_score',\n",
       " 'ProteinLengthChange',\n",
       " 'REVEL_rankscore',\n",
       " 'REVEL_score',\n",
       " 'Reliability_index',\n",
       " 'SIFT_converted_rankscore',\n",
       " 'SIFT_pred',\n",
       " 'SIFT_score',\n",
       " 'SOMATIC',\n",
       " 'SiPhy_29way_logOdds',\n",
       " 'SiPhy_29way_logOdds_rankscore',\n",
       " 'SiPhy_29way_pi',\n",
       " 'TWINSUK_AC',\n",
       " 'TWINSUK_AF',\n",
       " 'Transcript_id_VEST3',\n",
       " 'Transcript_var_VEST3',\n",
       " 'Uniprot_aapos_Polyphen2',\n",
       " 'Uniprot_acc_Polyphen2',\n",
       " 'Uniprot_id_Polyphen2',\n",
       " 'VEST3_rankscore',\n",
       " 'VEST3_score',\n",
       " 'aaalt',\n",
       " 'aapos',\n",
       " 'aaref',\n",
       " 'ada_score',\n",
       " 'alt',\n",
       " 'cds_strand',\n",
       " 'chr',\n",
       " 'clinvar_clnsig',\n",
       " 'clinvar_golden_stars',\n",
       " 'clinvar_rs',\n",
       " 'clinvar_trait',\n",
       " 'codon_degeneracy',\n",
       " 'codonpos',\n",
       " 'fathmm-MKL_coding_group',\n",
       " 'fathmm-MKL_coding_pred',\n",
       " 'fathmm-MKL_coding_rankscore',\n",
       " 'fathmm-MKL_coding_score',\n",
       " 'genename',\n",
       " 'gnomAD_exomes_AC',\n",
       " 'gnomAD_exomes_AF',\n",
       " 'gnomAD_exomes_AFR_AC',\n",
       " 'gnomAD_exomes_AFR_AF',\n",
       " 'gnomAD_exomes_AFR_AN',\n",
       " 'gnomAD_exomes_AMR_AC',\n",
       " 'gnomAD_exomes_AMR_AF',\n",
       " 'gnomAD_exomes_AMR_AN',\n",
       " 'gnomAD_exomes_AN',\n",
       " 'gnomAD_exomes_ASJ_AC',\n",
       " 'gnomAD_exomes_ASJ_AF',\n",
       " 'gnomAD_exomes_ASJ_AN',\n",
       " 'gnomAD_exomes_EAS_AC',\n",
       " 'gnomAD_exomes_EAS_AF',\n",
       " 'gnomAD_exomes_EAS_AN',\n",
       " 'gnomAD_exomes_FIN_AC',\n",
       " 'gnomAD_exomes_FIN_AF',\n",
       " 'gnomAD_exomes_FIN_AN',\n",
       " 'gnomAD_exomes_NFE_AC',\n",
       " 'gnomAD_exomes_NFE_AF',\n",
       " 'gnomAD_exomes_NFE_AN',\n",
       " 'gnomAD_exomes_OTH_AC',\n",
       " 'gnomAD_exomes_OTH_AF',\n",
       " 'gnomAD_exomes_OTH_AN',\n",
       " 'gnomAD_exomes_SAS_AC',\n",
       " 'gnomAD_exomes_SAS_AF',\n",
       " 'gnomAD_exomes_SAS_AN',\n",
       " 'gnomAD_genomes_AC',\n",
       " 'gnomAD_genomes_AF',\n",
       " 'gnomAD_genomes_AFR_AC',\n",
       " 'gnomAD_genomes_AFR_AF',\n",
       " 'gnomAD_genomes_AFR_AN',\n",
       " 'gnomAD_genomes_AMR_AC',\n",
       " 'gnomAD_genomes_AMR_AF',\n",
       " 'gnomAD_genomes_AMR_AN',\n",
       " 'gnomAD_genomes_AN',\n",
       " 'gnomAD_genomes_ASJ_AC',\n",
       " 'gnomAD_genomes_ASJ_AF',\n",
       " 'gnomAD_genomes_ASJ_AN',\n",
       " 'gnomAD_genomes_EAS_AC',\n",
       " 'gnomAD_genomes_EAS_AF',\n",
       " 'gnomAD_genomes_EAS_AN',\n",
       " 'gnomAD_genomes_FIN_AC',\n",
       " 'gnomAD_genomes_FIN_AF',\n",
       " 'gnomAD_genomes_FIN_AN',\n",
       " 'gnomAD_genomes_NFE_AC',\n",
       " 'gnomAD_genomes_NFE_AF',\n",
       " 'gnomAD_genomes_NFE_AN',\n",
       " 'gnomAD_genomes_OTH_AC',\n",
       " 'gnomAD_genomes_OTH_AF',\n",
       " 'gnomAD_genomes_OTH_AN',\n",
       " 'hg18_chr',\n",
       " 'hg18_pos(1-based)',\n",
       " 'hg19_chr',\n",
       " 'hg19_pos(1-based)',\n",
       " 'integrated_confidence_value',\n",
       " 'integrated_fitCons_score',\n",
       " 'integrated_fitCons_score_rankscore',\n",
       " 'phastCons100way_vertebrate',\n",
       " 'phastCons100way_vertebrate_rankscore',\n",
       " 'phastCons20way_mammalian',\n",
       " 'phastCons20way_mammalian_rankscore',\n",
       " 'phyloP100way_vertebrate',\n",
       " 'phyloP100way_vertebrate_rankscore',\n",
       " 'phyloP20way_mammalian',\n",
       " 'phyloP20way_mammalian_rankscore',\n",
       " 'pos(1-based)',\n",
       " 'ref',\n",
       " 'refcodon',\n",
       " 'rf_score',\n",
       " 'rs_dbSNP150'}"
      ]
     },
     "execution_count": 6,
     "metadata": {},
     "output_type": "execute_result"
    }
   ],
   "source": [
    "r.get_missing_cols()"
   ]
  },
  {
   "cell_type": "code",
   "execution_count": 7,
   "metadata": {},
   "outputs": [
    {
     "data": {
      "text/plain": [
       "' (from dbNSFP) Alternative allele frequency in the Ashkenazi Jewish gnomAD exome samples (4,925 samples)'"
      ]
     },
     "execution_count": 7,
     "metadata": {},
     "output_type": "execute_result"
    }
   ],
   "source": [
    "r.get_col_info('gnomAD_exomes_ASJ_AF')"
   ]
  },
  {
   "cell_type": "code",
   "execution_count": 8,
   "metadata": {},
   "outputs": [
    {
     "data": {
      "text/plain": [
       "0     G\n",
       "1     G\n",
       "2     G\n",
       "3     G\n",
       "4     G\n",
       "5     G\n",
       "6     G\n",
       "7     G\n",
       "8     G\n",
       "9     T\n",
       "10    T\n",
       "11    T\n",
       "12    T\n",
       "13    T\n",
       "14    T\n",
       "15    T\n",
       "16    T\n",
       "17    T\n",
       "18    T\n",
       "19    T\n",
       "20    T\n",
       "21    T\n",
       "22    T\n",
       "23    T\n",
       "24    T\n",
       "25    T\n",
       "26    C\n",
       "27    C\n",
       "28    C\n",
       "29    C\n",
       "     ..\n",
       "38    A\n",
       "39    A\n",
       "40    A\n",
       "41    A\n",
       "42    A\n",
       "43    A\n",
       "44    A\n",
       "45    A\n",
       "46    A\n",
       "47    A\n",
       "48    A\n",
       "49    A\n",
       "50    A\n",
       "51    A\n",
       "52    A\n",
       "53    A\n",
       "54    A\n",
       "55    A\n",
       "56    A\n",
       "57    A\n",
       "58    A\n",
       "59    A\n",
       "60    A\n",
       "61    A\n",
       "62    A\n",
       "63    A\n",
       "64    A\n",
       "65    A\n",
       "66    A\n",
       "67    A\n",
       "Name: Allele, Length: 68, dtype: object"
      ]
     },
     "execution_count": 8,
     "metadata": {},
     "output_type": "execute_result"
    }
   ],
   "source": [
    "r.get_col_by_name('Allele')"
   ]
  },
  {
   "cell_type": "code",
   "execution_count": 9,
   "metadata": {},
   "outputs": [
    {
     "data": {
      "text/plain": [
       "0     {'rs9841454': 1.0, 'rs34948385': 0.811, 'rs168...\n",
       "1     {'rs9841454': 1.0, 'rs34948385': 0.811, 'rs168...\n",
       "2     {'rs9841454': 1.0, 'rs34948385': 0.811, 'rs168...\n",
       "3     {'rs9841454': 1.0, 'rs34948385': 0.811, 'rs168...\n",
       "4     {'rs9841454': 1.0, 'rs34948385': 0.811, 'rs168...\n",
       "5     {'rs9841454': 1.0, 'rs34948385': 0.811, 'rs168...\n",
       "6     {'rs9841454': 1.0, 'rs34948385': 0.811, 'rs168...\n",
       "7     {'rs9841454': 1.0, 'rs34948385': 0.811, 'rs168...\n",
       "8     {'rs9841454': 1.0, 'rs34948385': 0.811, 'rs168...\n",
       "9     {'rs9841454': 1.0, 'rs34948385': 0.811, 'rs168...\n",
       "10    {'rs9841454': 1.0, 'rs34948385': 0.811, 'rs168...\n",
       "11    {'rs9841454': 1.0, 'rs34948385': 0.811, 'rs168...\n",
       "12    {'rs9841454': 1.0, 'rs34948385': 0.811, 'rs168...\n",
       "13    {'rs9841454': 1.0, 'rs34948385': 0.811, 'rs168...\n",
       "14    {'rs9841454': 1.0, 'rs34948385': 0.811, 'rs168...\n",
       "15    {'rs9841454': 1.0, 'rs34948385': 0.811, 'rs168...\n",
       "16    {'rs9841454': 1.0, 'rs34948385': 0.811, 'rs168...\n",
       "17    {'rs9841454': 1.0, 'rs34948385': 0.811, 'rs168...\n",
       "18    {'rs57806386': 1.0, 'rs1345778': 1.0, 'rs68971...\n",
       "19    {'rs57806386': 1.0, 'rs1345778': 1.0, 'rs68971...\n",
       "20    {'rs57806386': 1.0, 'rs1345778': 1.0, 'rs68971...\n",
       "21    {'rs57806386': 1.0, 'rs1345778': 1.0, 'rs68971...\n",
       "22    {'rs57806386': 1.0, 'rs1345778': 1.0, 'rs68971...\n",
       "23    {'rs57806386': 1.0, 'rs1345778': 1.0, 'rs68971...\n",
       "24    {'rs57806386': 1.0, 'rs1345778': 1.0, 'rs68971...\n",
       "25    {'rs57806386': 1.0, 'rs1345778': 1.0, 'rs68971...\n",
       "26                                                   {}\n",
       "27                                                   {}\n",
       "28                                                   {}\n",
       "29                                                   {}\n",
       "                            ...                        \n",
       "38    {'rs12752585': 0.969, 'rs4421576': 0.969, 'rs2...\n",
       "39    {'rs12752585': 0.969, 'rs4421576': 0.969, 'rs2...\n",
       "40    {'rs12752585': 0.969, 'rs4421576': 0.969, 'rs2...\n",
       "41    {'rs12752585': 0.969, 'rs4421576': 0.969, 'rs2...\n",
       "42    {'rs12752585': 0.969, 'rs4421576': 0.969, 'rs2...\n",
       "43    {'rs12752585': 0.969, 'rs4421576': 0.969, 'rs2...\n",
       "44    {'rs12752585': 0.969, 'rs4421576': 0.969, 'rs2...\n",
       "45    {'rs12752585': 0.969, 'rs4421576': 0.969, 'rs2...\n",
       "46    {'rs12752585': 0.969, 'rs4421576': 0.969, 'rs2...\n",
       "47    {'rs12752585': 0.969, 'rs4421576': 0.969, 'rs2...\n",
       "48    {'rs12752585': 0.969, 'rs4421576': 0.969, 'rs2...\n",
       "49    {'rs12752585': 0.969, 'rs4421576': 0.969, 'rs2...\n",
       "50    {'rs12752585': 0.969, 'rs4421576': 0.969, 'rs2...\n",
       "51    {'rs12752585': 0.969, 'rs4421576': 0.969, 'rs2...\n",
       "52    {'rs12752585': 0.969, 'rs4421576': 0.969, 'rs2...\n",
       "53    {'rs12752585': 0.969, 'rs4421576': 0.969, 'rs2...\n",
       "54    {'rs12752585': 0.969, 'rs4421576': 0.969, 'rs2...\n",
       "55    {'rs12752585': 0.969, 'rs4421576': 0.969, 'rs2...\n",
       "56    {'rs12752585': 0.969, 'rs4421576': 0.969, 'rs2...\n",
       "57    {'rs12752585': 0.969, 'rs4421576': 0.969, 'rs2...\n",
       "58    {'rs12752585': 0.969, 'rs4421576': 0.969, 'rs2...\n",
       "59    {'rs12752585': 0.969, 'rs4421576': 0.969, 'rs2...\n",
       "60    {'rs12752585': 0.969, 'rs4421576': 0.969, 'rs2...\n",
       "61    {'rs12752585': 0.969, 'rs4421576': 0.969, 'rs2...\n",
       "62    {'rs12752585': 0.969, 'rs4421576': 0.969, 'rs2...\n",
       "63    {'rs12752585': 0.969, 'rs4421576': 0.969, 'rs2...\n",
       "64    {'rs12752585': 0.969, 'rs4421576': 0.969, 'rs2...\n",
       "65    {'rs12752585': 0.969, 'rs4421576': 0.969, 'rs2...\n",
       "66    {'rs12752585': 0.969, 'rs4421576': 0.969, 'rs2...\n",
       "67    {'rs12752585': 0.969, 'rs4421576': 0.969, 'rs2...\n",
       "Name: LinkedVariants_CHS, Length: 68, dtype: object"
      ]
     },
     "execution_count": 9,
     "metadata": {},
     "output_type": "execute_result"
    }
   ],
   "source": [
    "r.get_LD_col('LinkedVariants_CHS')"
   ]
  },
  {
   "cell_type": "code",
   "execution_count": 10,
   "metadata": {},
   "outputs": [
    {
     "data": {
      "text/plain": [
       "<matplotlib.axes._subplots.AxesSubplot at 0x10e5e4550>"
      ]
     },
     "execution_count": 10,
     "metadata": {},
     "output_type": "execute_result"
    },
    {
     "data": {
      "image/png": "[encoded data removed]",
      "text/plain": [
       "<Figure size 432x288 with 1 Axes>"
      ]
     },
     "metadata": {
      "needs_background": "light"
     },
     "output_type": "display_data"
    }
   ],
   "source": [
    "plot_feature_counts(r)"
   ]
  }
 ],
 "metadata": {
  "kernelspec": {
   "display_name": "Python 3",
   "language": "python",
   "name": "python3"
  },
  "language_info": {
   "codemirror_mode": {
    "name": "ipython",
    "version": 3
   },
   "file_extension": ".py",
   "mimetype": "text/x-python",
   "name": "python",
   "nbconvert_exporter": "python",
   "pygments_lexer": "ipython3",
   "version": "3.7.1"
  }
 },
 "nbformat": 4,
 "nbformat_minor": 2
}
